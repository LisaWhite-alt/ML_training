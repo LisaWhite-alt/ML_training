{
 "cells": [
  {
   "cell_type": "code",
   "execution_count": 1,
   "id": "c12faad9",
   "metadata": {},
   "outputs": [],
   "source": [
    "import pandas as pd\n",
    "from sklearn.tree import DecisionTreeClassifier\n",
    "from sklearn.metrics import precision_score"
   ]
  },
  {
   "cell_type": "code",
   "execution_count": null,
   "id": "170b1497",
   "metadata": {},
   "outputs": [],
   "source": [
    "clf = DecisionTreeClassifier(criterion=\"entropy\") # сажаем дерево"
   ]
  },
  {
   "cell_type": "code",
   "execution_count": null,
   "id": "d734a418",
   "metadata": {},
   "outputs": [],
   "source": [
    "clf = clf.fit(X_train, y_train) # обучаем дерево на тренировочных данных"
   ]
  },
  {
   "cell_type": "code",
   "execution_count": null,
   "id": "fc4ab28a",
   "metadata": {},
   "outputs": [],
   "source": [
    "predictions = clf.predict(X_test) # предсказываем значения на тестовых данных"
   ]
  },
  {
   "cell_type": "code",
   "execution_count": null,
   "id": "07e4a79a",
   "metadata": {},
   "outputs": [],
   "source": [
    "precision = precision_score(y_test, predictions, average='micro') # вычисляем precision (точность)"
   ]
  }
 ],
 "metadata": {
  "kernelspec": {
   "display_name": "Python 3 (ipykernel)",
   "language": "python",
   "name": "python3"
  },
  "language_info": {
   "codemirror_mode": {
    "name": "ipython",
    "version": 3
   },
   "file_extension": ".py",
   "mimetype": "text/x-python",
   "name": "python",
   "nbconvert_exporter": "python",
   "pygments_lexer": "ipython3",
   "version": "3.9.7"
  }
 },
 "nbformat": 4,
 "nbformat_minor": 5
}
